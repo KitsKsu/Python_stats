{
 "cells": [
  {
   "cell_type": "code",
   "execution_count": 1,
   "id": "d941b3ed",
   "metadata": {},
   "outputs": [],
   "source": [
    "import numpy as np"
   ]
  },
  {
   "cell_type": "code",
   "execution_count": 36,
   "id": "749adfce",
   "metadata": {},
   "outputs": [
    {
     "name": "stdout",
     "output_type": "stream",
     "text": [
      "-0.20276839999999996\n"
     ]
    }
   ],
   "source": [
    "games = 1000000\n",
    "total_amount = 0\n",
    "win = 0\n",
    "\n",
    "for i in range(games):\n",
    "    num = np.random.randint(0, 1000)\n",
    "    if num == 777:\n",
    "        total_amount += 200\n",
    "        win += 1\n",
    "    elif num == 999:\n",
    "        total_amount += 100\n",
    "        win += 1\n",
    "    elif num == 555:\n",
    "        total_amount += 50\n",
    "        win += 1\n",
    "    elif num == 333:\n",
    "        total_amount += 15\n",
    "        win += 1\n",
    "    elif num == 111:\n",
    "        total_amount += 10\n",
    "        win += 1\n",
    "    elif num % 100 == 77:\n",
    "        total_amount += 5\n",
    "        win += 1\n",
    "    elif (num - 7) % 10 == 0:\n",
    "        total_amount += 3\n",
    "        win += 1\n",
    "    elif num % 100 == 0:\n",
    "        total_amount +=2\n",
    "        win += 1\n",
    "    elif num % 10 == 0:\n",
    "        win += 1\n",
    "        total_amount += 1\n",
    "\n",
    "monte_carlo = ((total_amount+zero)/games) - 1\n",
    "print (monte_carlo)\n",
    "        \n"
   ]
  },
  {
   "cell_type": "markdown",
   "id": "f826d901",
   "metadata": {},
   "source": [
    "Средняя сумма проигрыша - 20 копеек за игру при моделировании"
   ]
  },
  {
   "cell_type": "code",
   "execution_count": 31,
   "id": "e5355bac",
   "metadata": {},
   "outputs": [
    {
     "data": {
      "text/plain": [
       "-0.20499999999999996"
      ]
     },
     "execution_count": 31,
     "metadata": {},
     "output_type": "execute_result"
    }
   ],
   "source": [
    "'''\n",
    "математический расчет\n",
    "вероятности:\n",
    "200р = 1/1000\n",
    "100р = 1/1000\n",
    "50р = 1/1000\n",
    "15р = 1/1000\n",
    "10р = 1/1000\n",
    "5р = 8/1000\n",
    "3р = 90/1000\n",
    "2р = 10/1000\n",
    "1р = 90/1000\n",
    "и 1 р тратим\n",
    "'''\n",
    "x = (200*1 + 100*1 + 50*1 + 15*1 +10*1 + 5*8 + 3* 90 + 2*10 + 1*90)/1000 - 1\n",
    "x"
   ]
  },
  {
   "cell_type": "markdown",
   "id": "e6a5bf54",
   "metadata": {},
   "source": [
    "Получаем примерно те же 20 копеек."
   ]
  }
 ],
 "metadata": {
  "kernelspec": {
   "display_name": "Python 3",
   "language": "python",
   "name": "python3"
  },
  "language_info": {
   "codemirror_mode": {
    "name": "ipython",
    "version": 3
   },
   "file_extension": ".py",
   "mimetype": "text/x-python",
   "name": "python",
   "nbconvert_exporter": "python",
   "pygments_lexer": "ipython3",
   "version": "3.8.8"
  }
 },
 "nbformat": 4,
 "nbformat_minor": 5
}
